{
 "cells": [
  {
   "cell_type": "code",
   "execution_count": 55,
   "id": "88c43c59",
   "metadata": {},
   "outputs": [],
   "source": [
    "def dynamicArray(n, queries):\n",
    "    \n",
    "    n_list = []\n",
    "    last_answer = 0\n",
    "    output = []\n",
    "    \n",
    "    for i in range(n):\n",
    "        n_list.append([])\n",
    "    #print(n_list)\n",
    "    for query in queries:\n",
    "        #print(query[0])\n",
    "        if int(query[0]) == 1:\n",
    "            index = (int(query[1]) ^ last_answer) % n\n",
    "            #print(index,' ',last_answer)\n",
    "            n_list[index].append(int(query[2]))\n",
    "        else:\n",
    "            index = (int(query[1]) ^ last_answer) % n\n",
    "            #print(index)\n",
    "            last_answer = n_list[index][int(query[2]) % len(n_list[index])]\n",
    "            output.append(last_answer)\n",
    "            \n",
    "    return output"
   ]
  },
  {
   "cell_type": "code",
   "execution_count": 56,
   "id": "d36275bd",
   "metadata": {},
   "outputs": [],
   "source": [
    "string = \"\"\"\n",
    "2 5\n",
    "1 0 5\n",
    "1 1 7\n",
    "1 0 3\n",
    "2 1 0\n",
    "2 1 1\n",
    "\"\"\""
   ]
  },
  {
   "cell_type": "code",
   "execution_count": 57,
   "id": "193d9840",
   "metadata": {},
   "outputs": [],
   "source": [
    "info = string.rsplit('\\n')[1:]"
   ]
  },
  {
   "cell_type": "code",
   "execution_count": 58,
   "id": "e462e7d1",
   "metadata": {},
   "outputs": [
    {
     "data": {
      "text/plain": [
       "2"
      ]
     },
     "execution_count": 58,
     "metadata": {},
     "output_type": "execute_result"
    }
   ],
   "source": [
    "n = int(info[0][0])\n",
    "n"
   ]
  },
  {
   "cell_type": "code",
   "execution_count": 59,
   "id": "1737cbe0",
   "metadata": {},
   "outputs": [
    {
     "data": {
      "text/plain": [
       "'5'"
      ]
     },
     "execution_count": 59,
     "metadata": {},
     "output_type": "execute_result"
    }
   ],
   "source": [
    "queries = info[0][2]\n",
    "queries"
   ]
  },
  {
   "cell_type": "code",
   "execution_count": 60,
   "id": "deb17bb1",
   "metadata": {},
   "outputs": [],
   "source": [
    "each_query = [i.split() for i in info[1:-1]]"
   ]
  },
  {
   "cell_type": "code",
   "execution_count": 61,
   "id": "f7ab7d67",
   "metadata": {},
   "outputs": [
    {
     "data": {
      "text/plain": [
       "[['1', '0', '5'],\n",
       " ['1', '1', '7'],\n",
       " ['1', '0', '3'],\n",
       " ['2', '1', '0'],\n",
       " ['2', '1', '1']]"
      ]
     },
     "execution_count": 61,
     "metadata": {},
     "output_type": "execute_result"
    }
   ],
   "source": [
    "each_query"
   ]
  },
  {
   "cell_type": "code",
   "execution_count": 62,
   "id": "2c7c302a",
   "metadata": {},
   "outputs": [
    {
     "data": {
      "text/plain": [
       "[7, 3]"
      ]
     },
     "execution_count": 62,
     "metadata": {},
     "output_type": "execute_result"
    }
   ],
   "source": [
    "dynamicArray(n,each_query)"
   ]
  },
  {
   "cell_type": "code",
   "execution_count": null,
   "id": "aa1bb08b",
   "metadata": {},
   "outputs": [],
   "source": []
  }
 ],
 "metadata": {
  "kernelspec": {
   "display_name": "Python 3 (ipykernel)",
   "language": "python",
   "name": "python3"
  },
  "language_info": {
   "codemirror_mode": {
    "name": "ipython",
    "version": 3
   },
   "file_extension": ".py",
   "mimetype": "text/x-python",
   "name": "python",
   "nbconvert_exporter": "python",
   "pygments_lexer": "ipython3",
   "version": "3.9.4"
  }
 },
 "nbformat": 4,
 "nbformat_minor": 5
}
